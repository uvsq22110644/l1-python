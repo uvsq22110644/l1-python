{
 "cells": [
  {
   "cell_type": "code",
   "execution_count": null,
   "metadata": {},
   "outputs": [],
   "source": [
    "t = [0] * 100\n",
    "for i in range(100):\n",
    "    if i%2==0 or i%3==0:\n",
    "        t[i] = i\n",
    "print(t[93], t[96], t[97])   \n",
    "#93 0 0   0 96 0  93 96 97   93 96 0     "
   ]
  },
  {
   "cell_type": "code",
   "execution_count": 57,
   "metadata": {},
   "outputs": [
    {
     "name": "stdout",
     "output_type": "stream",
     "text": [
      "0 2\n"
     ]
    }
   ],
   "source": [
    "def f(a,b):\n",
    "    a = b + a\n",
    "u = [0,2]\n",
    "v = [3,1]\n",
    "f(u,v)\n",
    "print(u[0], u[-1])\n",
    "# 3 2  3 3  0 2  3 1"
   ]
  },
  {
   "cell_type": "code",
   "execution_count": 58,
   "metadata": {},
   "outputs": [
    {
     "name": "stdout",
     "output_type": "stream",
     "text": [
      "8\n"
     ]
    }
   ],
   "source": [
    "def g(x):\n",
    "    return -x + 3\n",
    "def f(x):\n",
    "    return g(x) * 2\n",
    "print(f(g(4)))\n",
    "# 8  4  2  1"
   ]
  },
  {
   "cell_type": "code",
   "execution_count": 59,
   "metadata": {},
   "outputs": [
    {
     "name": "stdout",
     "output_type": "stream",
     "text": [
      "10\n"
     ]
    }
   ],
   "source": [
    "def f(x):\n",
    "    return 10 - x\n",
    "i, res = 0, 0\n",
    "while i < f(i):\n",
    "    res += i\n",
    "    i += 1\n",
    "print(res)\n",
    "# 7  10  15  6"
   ]
  },
  {
   "cell_type": "code",
   "execution_count": 60,
   "metadata": {},
   "outputs": [
    {
     "name": "stdout",
     "output_type": "stream",
     "text": [
      "[6, 4, 2, 0]\n"
     ]
    }
   ],
   "source": [
    "a =[6,4,2,5]\n",
    "b=[a]\n",
    "b[-1][-1] = 0\n",
    "print(a)\n",
    "# erreur [6, 4, 2, 0]  6,4,2,5  [6,4,2,5]"
   ]
  },
  {
   "cell_type": "code",
   "execution_count": 61,
   "metadata": {},
   "outputs": [
    {
     "ename": "KeyboardInterrupt",
     "evalue": "",
     "output_type": "error",
     "traceback": [
      "\u001b[1;31m---------------------------------------------------------------------------\u001b[0m",
      "\u001b[1;31mKeyboardInterrupt\u001b[0m                         Traceback (most recent call last)",
      "\u001b[1;32m~\\AppData\\Local\\Temp/ipykernel_2312/2412343307.py\u001b[0m in \u001b[0;36m<module>\u001b[1;34m\u001b[0m\n\u001b[0;32m      2\u001b[0m \u001b[0mres\u001b[0m \u001b[1;33m=\u001b[0m \u001b[1;36m0\u001b[0m\u001b[1;33m\u001b[0m\u001b[1;33m\u001b[0m\u001b[0m\n\u001b[0;32m      3\u001b[0m \u001b[1;32mwhile\u001b[0m \u001b[0mx\u001b[0m \u001b[1;33m!=\u001b[0m \u001b[1;36m2\u001b[0m\u001b[1;33m:\u001b[0m\u001b[1;33m\u001b[0m\u001b[1;33m\u001b[0m\u001b[0m\n\u001b[1;32m----> 4\u001b[1;33m     \u001b[0mx\u001b[0m \u001b[1;33m=\u001b[0m \u001b[0mx\u001b[0m\u001b[1;33m//\u001b[0m\u001b[1;36m2\u001b[0m\u001b[1;33m\u001b[0m\u001b[1;33m\u001b[0m\u001b[0m\n\u001b[0m\u001b[0;32m      5\u001b[0m     \u001b[0mres\u001b[0m \u001b[1;33m+=\u001b[0m \u001b[1;36m1\u001b[0m\u001b[1;33m\u001b[0m\u001b[1;33m\u001b[0m\u001b[0m\n\u001b[0;32m      6\u001b[0m \u001b[0mprint\u001b[0m\u001b[1;33m(\u001b[0m\u001b[0mres\u001b[0m\u001b[1;33m)\u001b[0m\u001b[1;33m\u001b[0m\u001b[1;33m\u001b[0m\u001b[0m\n",
      "\u001b[1;31mKeyboardInterrupt\u001b[0m: "
     ]
    }
   ],
   "source": [
    "x = 12\n",
    "res = 0\n",
    "while x != 2:\n",
    "    x = x//2\n",
    "    res += 1\n",
    "print(res)\n",
    "# 4 10 3 rien"
   ]
  },
  {
   "cell_type": "code",
   "execution_count": 62,
   "metadata": {},
   "outputs": [
    {
     "name": "stdout",
     "output_type": "stream",
     "text": [
      "124\n"
     ]
    }
   ],
   "source": [
    "fic=open(\"entiers.txt\", \"w\")\n",
    "for i in [\"12\",\" \", \"4\",\" \", \"62\"]:\n",
    "    fic.write(i)\n",
    "fic.close()\n",
    "\n",
    "fic=open(\"entiers.txt\", \"r\")\n",
    "line = fic.readline()\n",
    "val = line.split()\n",
    "print(val[0] + val[1])\n",
    "fic.close()\n",
    "#12  16  124  3"
   ]
  },
  {
   "cell_type": "code",
   "execution_count": 63,
   "metadata": {},
   "outputs": [],
   "source": [
    "fic=open(\"result.txt\", \"w\")\n",
    "for i in [\"5\", \"3\", \"6\", \"4\"]:\n",
    "    fic.write(i)\n",
    "fic.close()\n",
    "# 5364  '5\"3\"6\"4'  erreur '5''3''6''4'"
   ]
  },
  {
   "cell_type": "code",
   "execution_count": 80,
   "metadata": {},
   "outputs": [
    {
     "name": "stdout",
     "output_type": "stream",
     "text": [
      "2\n",
      "0 2\n"
     ]
    }
   ],
   "source": [
    "def f(a,x):\n",
    "    a[0], x = 0, 0\n",
    "b = [1]\n",
    "y = 2\n",
    "f(b,y)\n",
    "print(b[0], y)\n",
    "# 0 0  0 2  1 2   1 0"
   ]
  },
  {
   "cell_type": "code",
   "execution_count": 83,
   "metadata": {},
   "outputs": [
    {
     "name": "stdout",
     "output_type": "stream",
     "text": [
      "2 0\n"
     ]
    }
   ],
   "source": [
    "def f(x):\n",
    "    y = 0\n",
    "    x += 1\n",
    "x, y = 2, 3\n",
    "f(x)\n",
    "print(x, y)\n",
    "# 3 0  2 0  2 3  3 3"
   ]
  },
  {
   "cell_type": "code",
   "execution_count": 66,
   "metadata": {},
   "outputs": [
    {
     "name": "stdout",
     "output_type": "stream",
     "text": [
      "[3, 3]\n"
     ]
    }
   ],
   "source": [
    "def g(b):\n",
    "    b[0], b[1]=b[1]+1, b[0]-1\n",
    "a = [4, 2]\n",
    "for i in range(5):\n",
    "    g(a)\n",
    "print(a)\n",
    "#[5, 2] [4,3] [4,2] [3,3]"
   ]
  },
  {
   "cell_type": "code",
   "execution_count": 67,
   "metadata": {},
   "outputs": [
    {
     "name": "stdout",
     "output_type": "stream",
     "text": [
      "20897135\n"
     ]
    }
   ],
   "source": [
    "for i in range(10):\n",
    "    if i % 2 == 0:\n",
    "        res += i\n",
    "    else:\n",
    "        res -= i\n",
    "print(res)\n",
    "# 5  4  erreur -5"
   ]
  },
  {
   "cell_type": "code",
   "execution_count": 84,
   "metadata": {},
   "outputs": [
    {
     "name": "stdout",
     "output_type": "stream",
     "text": [
      "0 3\n"
     ]
    }
   ],
   "source": [
    "a = [5, 3, 6]\n",
    "x = 3\n",
    "b, y = a, x\n",
    "a[0] = 0\n",
    "x = 1\n",
    "print(b[0], y)\n",
    "# 5 1  5 3  0 3  0 1"
   ]
  },
  {
   "cell_type": "code",
   "execution_count": 69,
   "metadata": {},
   "outputs": [
    {
     "name": "stdout",
     "output_type": "stream",
     "text": [
      "[1, 2, 3, 5, 8]\n"
     ]
    }
   ],
   "source": [
    "def f(x):\n",
    "    x.append(x[-1] + x[-2])\n",
    "    return x\n",
    "a = [1, 2]\n",
    "f(f(f(a)))\n",
    "print(a)\n",
    "\n",
    "#[1, 2]  [1, 2, 3, 6, 12]   erreur  [1, 2, 3, 5, 8]"
   ]
  },
  {
   "cell_type": "code",
   "execution_count": 70,
   "metadata": {},
   "outputs": [
    {
     "name": "stdout",
     "output_type": "stream",
     "text": [
      "[]\n"
     ]
    }
   ],
   "source": [
    "def f(u, x):\n",
    "    u = u + [x]\n",
    "s = []\n",
    "for i in range(1, 4):\n",
    "    f(s,i)\n",
    "print(s)\n",
    "# [1, 2, 3]   []   [1, 2, 3, 4] "
   ]
  },
  {
   "cell_type": "code",
   "execution_count": 71,
   "metadata": {},
   "outputs": [
    {
     "name": "stdout",
     "output_type": "stream",
     "text": [
      "4\n"
     ]
    }
   ],
   "source": [
    "res = 1\n",
    "for i in [2, 5, 4]:\n",
    "    for j in [7, 1, 2]:\n",
    "        res += i-j\n",
    "print(res)\n",
    "# 2 1 -19 4"
   ]
  },
  {
   "cell_type": "code",
   "execution_count": 72,
   "metadata": {},
   "outputs": [
    {
     "name": "stdout",
     "output_type": "stream",
     "text": [
      "False True\n"
     ]
    }
   ],
   "source": [
    "a,b = True, False\n",
    "x = not a and (a or b)\n",
    "y = not(a and b) or b\n",
    "print(x, y)\n",
    "\n",
    "# TF  TT  FF  FT"
   ]
  },
  {
   "cell_type": "code",
   "execution_count": null,
   "metadata": {},
   "outputs": [],
   "source": [
    "def f(x):\n",
    "    if x % 2 ==0:\n",
    "        x = 2*x + 1\n",
    "    if x % 2 == 1:\n",
    "        x = x + 3\n",
    "    return x\n",
    "print(f(2), f(3))\n",
    "\n",
    "#6 5    5,6   8 6   5 6"
   ]
  },
  {
   "cell_type": "code",
   "execution_count": 73,
   "metadata": {},
   "outputs": [
    {
     "ename": "IndexError",
     "evalue": "list index out of range",
     "output_type": "error",
     "traceback": [
      "\u001b[1;31m---------------------------------------------------------------------------\u001b[0m",
      "\u001b[1;31mIndexError\u001b[0m                                Traceback (most recent call last)",
      "\u001b[1;32m~\\AppData\\Local\\Temp/ipykernel_2312/3238231686.py\u001b[0m in \u001b[0;36m<module>\u001b[1;34m\u001b[0m\n\u001b[0;32m      5\u001b[0m         \u001b[0mb\u001b[0m\u001b[1;33m.\u001b[0m\u001b[0mappend\u001b[0m\u001b[1;33m(\u001b[0m\u001b[0mi\u001b[0m\u001b[1;33m-\u001b[0m\u001b[0mj\u001b[0m\u001b[1;33m)\u001b[0m\u001b[1;33m\u001b[0m\u001b[1;33m\u001b[0m\u001b[0m\n\u001b[0;32m      6\u001b[0m     \u001b[0ma\u001b[0m\u001b[1;33m.\u001b[0m\u001b[0mappend\u001b[0m\u001b[1;33m(\u001b[0m\u001b[0mb\u001b[0m\u001b[1;33m)\u001b[0m\u001b[1;33m\u001b[0m\u001b[1;33m\u001b[0m\u001b[0m\n\u001b[1;32m----> 7\u001b[1;33m \u001b[0mprint\u001b[0m\u001b[1;33m(\u001b[0m\u001b[0ma\u001b[0m\u001b[1;33m[\u001b[0m\u001b[1;36m2\u001b[0m\u001b[1;33m]\u001b[0m\u001b[1;33m[\u001b[0m\u001b[1;36m4\u001b[0m\u001b[1;33m]\u001b[0m\u001b[1;33m)\u001b[0m\u001b[1;33m\u001b[0m\u001b[1;33m\u001b[0m\u001b[0m\n\u001b[0m\u001b[0;32m      8\u001b[0m \u001b[1;33m\u001b[0m\u001b[0m\n\u001b[0;32m      9\u001b[0m \u001b[1;31m# -3 erreur 2  -2\u001b[0m\u001b[1;33m\u001b[0m\u001b[1;33m\u001b[0m\u001b[0m\n",
      "\u001b[1;31mIndexError\u001b[0m: list index out of range"
     ]
    }
   ],
   "source": [
    "a = []\n",
    "for i in range(10):\n",
    "    b = []\n",
    "    for j in range(4):\n",
    "        b.append(i-j)\n",
    "    a.append(b)\n",
    "print(a[2][4])\n",
    "\n",
    "# -3 erreur 2  -2"
   ]
  },
  {
   "cell_type": "code",
   "execution_count": 86,
   "metadata": {},
   "outputs": [
    {
     "name": "stdout",
     "output_type": "stream",
     "text": [
      "11\n"
     ]
    }
   ],
   "source": [
    "def f(x):\n",
    "    global a\n",
    "    a = 1 - a\n",
    "    return a * x\n",
    "a, res = 0, 0\n",
    "for e in [3, 7, 2, 5, 6]:\n",
    "    res += f(e)\n",
    "print(res)\n",
    "# 11  23  12  0"
   ]
  },
  {
   "cell_type": "code",
   "execution_count": 75,
   "metadata": {},
   "outputs": [
    {
     "name": "stdout",
     "output_type": "stream",
     "text": [
      "0\n"
     ]
    }
   ],
   "source": [
    "a = 0\n",
    "for i in range(0,10):\n",
    "    for j in range(0,j):\n",
    "        a *= 3\n",
    "print(a)"
   ]
  },
  {
   "cell_type": "code",
   "execution_count": 76,
   "metadata": {},
   "outputs": [
    {
     "name": "stdout",
     "output_type": "stream",
     "text": [
      "[7, 5, 6, 9]\n"
     ]
    }
   ],
   "source": [
    "x = [5,3,4,7]\n",
    "y = []\n",
    "for e in x:\n",
    "    y.append(e+2)\n",
    "print(y)"
   ]
  },
  {
   "cell_type": "code",
   "execution_count": 77,
   "metadata": {},
   "outputs": [
    {
     "name": "stdout",
     "output_type": "stream",
     "text": [
      "1 2\n"
     ]
    }
   ],
   "source": [
    "def f(a,x):\n",
    "    a[0], x =1, 1\n",
    "a = [3,4]\n",
    "x = 2\n",
    "f(a,x)\n",
    "print(a[0], x)"
   ]
  }
 ],
 "metadata": {
  "interpreter": {
   "hash": "ae71230639ab4a4897a0a7d840b3da0aa7ae116a7420052ce92ef4319b712ad0"
  },
  "kernelspec": {
   "display_name": "Python 3.9.7 ('l1-python')",
   "language": "python",
   "name": "python3"
  },
  "language_info": {
   "codemirror_mode": {
    "name": "ipython",
    "version": 3
   },
   "file_extension": ".py",
   "mimetype": "text/x-python",
   "name": "python",
   "nbconvert_exporter": "python",
   "pygments_lexer": "ipython3",
   "version": "3.9.7"
  },
  "orig_nbformat": 4
 },
 "nbformat": 4,
 "nbformat_minor": 2
}
