{
 "cells": [
  {
   "cell_type": "code",
   "execution_count": null,
   "metadata": {},
   "outputs": [],
   "source": [
    "monfichier = open(\"test.txt\", \"w\") #nom et mode au quel on accède au fichier (r=lire, w=écrire mais écrase, a=ajouter)\n",
    "monfichier.write(\"hello\")\n",
    "monfichier.close()"
   ]
  },
  {
   "cell_type": "code",
   "execution_count": null,
   "metadata": {},
   "outputs": [],
   "source": [
    "monfichier = open(\"test.txt\", \"w\")\n",
    "monfichier.readlines()"
   ]
  },
  {
   "cell_type": "code",
   "execution_count": null,
   "metadata": {},
   "outputs": [],
   "source": [
    "#exercice 2\n",
    "def nb_lignes(nom_fichier):\n",
    "    fic = open(nom_fichier, \"r\")\n",
    "    n = 0\n",
    "    for ligne in fic:\n",
    "        n+=1\n",
    "    return n\n",
    "\n",
    "nb_lignes(\"words.txt\")"
   ]
  },
  {
   "cell_type": "code",
   "execution_count": null,
   "metadata": {},
   "outputs": [],
   "source": [
    "def ecrit_liste_mots(n):\n",
    "    \"\"\"écrit tous les mots de n lettres du fichier words.txt dans le fichier wordsn.txt\"\"\"\n",
    "    nbr_mot_nlettres = 0\n",
    "    fic = open(\"words.txt\", \"r\")\n",
    "    ficn = open(\"wordsn.txt\", \"a\")\n",
    "    for ligne in fic:\n",
    "        if len(ligne) == n:\n",
    "            ficn.write(ligne)\n",
    "            nbr_mot_nlettres +=1\n",
    "    return nbr_mot_nlettres\n",
    "    \n",
    "ecrit_liste_mots(5)"
   ]
  },
  {
   "cell_type": "code",
   "execution_count": null,
   "metadata": {},
   "outputs": [],
   "source": [
    "import random as rd \n",
    "def melange_mots(fichier):\n",
    "    \"\"\"mélange tous les mots du fichier dont le nom est passé en argument en écrivant le résultat \n",
    "    dans le fichier portant le même nom avec l’extension .mel\"\"\"\n",
    "    fic = open(fichier, \"r\")\n",
    "    ficm = open(fichier+\".mel\", \"a\")\n",
    "    lignes = fic.readlines()\n",
    "    lignes_mel = rd.shuffle(lignes)\n",
    "    for i in range(len(lignes_mel)):\n",
    "        ficm.write(str(lignes_mel[i]))\n",
    "\n",
    "melange_mots(\"words.txt\")\n",
    "    "
   ]
  },
  {
   "cell_type": "code",
   "execution_count": null,
   "metadata": {},
   "outputs": [],
   "source": [
    "def compare_mots(m1, m2):\n",
    "    l1, l2, ln = [], [], []\n",
    "    for i in m1:\n",
    "        l1.append(i)\n",
    "    for i in m2:\n",
    "        l2.append(i)\n",
    "    for i in range (len(m1)):\n",
    "        if l1[i] == l2[i]:\n",
    "            ln.append(1)\n",
    "        elif l1[i] != l2[i] and l1[i] in l2:\n",
    "            ln.append(2)\n",
    "        else:\n",
    "            ln.append(0)\n",
    "    return ln\n",
    "\n",
    "compare_mots(\"arbre\",\"verre\")\n",
    "    "
   ]
  },
  {
   "cell_type": "code",
   "execution_count": null,
   "metadata": {},
   "outputs": [],
   "source": [
    "def ecrit_liste_compatible(fichier, m, profil):\n",
    "    pass"
   ]
  },
  {
   "cell_type": "code",
   "execution_count": null,
   "metadata": {},
   "outputs": [],
   "source": [
    "#exercice 1\n",
    "#affiche la moyenne des 3 notes dans le fichier moyenne\n",
    "fic = open(\"notes.txt\", \"w\")\n",
    "ficm = open(\"notes_moyenne.txt\", \"w\")\n"
   ]
  }
 ],
 "metadata": {
  "interpreter": {
   "hash": "ae71230639ab4a4897a0a7d840b3da0aa7ae116a7420052ce92ef4319b712ad0"
  },
  "kernelspec": {
   "display_name": "Python 3.9.7 ('l1-python')",
   "language": "python",
   "name": "python3"
  },
  "language_info": {
   "codemirror_mode": {
    "name": "ipython",
    "version": 3
   },
   "file_extension": ".py",
   "mimetype": "text/x-python",
   "name": "python",
   "nbconvert_exporter": "python",
   "pygments_lexer": "ipython3",
   "version": "3.9.7"
  },
  "orig_nbformat": 4
 },
 "nbformat": 4,
 "nbformat_minor": 2
}
