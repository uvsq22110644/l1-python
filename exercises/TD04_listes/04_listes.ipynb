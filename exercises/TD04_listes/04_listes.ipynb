{
 "cells": [
  {
   "cell_type": "markdown",
   "metadata": {},
   "source": [
    "# TD 4: Listes"
   ]
  },
  {
   "cell_type": "markdown",
   "metadata": {},
   "source": [
    "---\n",
    "\n",
    "## 1. Débuts avec les listes\n",
    "\n",
    "Dans cette partie, il faut écrire les réponses directement dans le notebook. En plus du cours, n'hésitez pas à consulter la documentation (tutoriel) Python sur les listes [ici (introduction aux listes)](https://docs.python.org/fr/3.6/tutorial/introduction.html#lists) et [ici (complément sur les listes)] (https://docs.python.org/fr/3/tutorial/datastructures.html#more-on-lists).\n",
    "\n",
    "1. Créer la liste `3, 5, 10`, l'affecter à une variable, puis l'afficher."
   ]
  },
  {
   "cell_type": "code",
   "execution_count": null,
   "metadata": {},
   "outputs": [],
   "source": [
    "liste = [3, 5, 10]\n",
    "print(liste)"
   ]
  },
  {
   "cell_type": "markdown",
   "metadata": {},
   "source": [
    "2. Ajouter ensuite 12 et 17 à la fin puis afficher à nouveau la liste."
   ]
  },
  {
   "cell_type": "code",
   "execution_count": null,
   "metadata": {},
   "outputs": [],
   "source": [
    "liste = [3, 5, 10]\n",
    "liste.extend([12, 17])\n",
    "print(liste)"
   ]
  },
  {
   "cell_type": "code",
   "execution_count": null,
   "metadata": {},
   "outputs": [],
   "source": [
    "liste = [3, 5, 10]\n",
    "liste += [12, 17]\n",
    "print(liste)"
   ]
  },
  {
   "cell_type": "markdown",
   "metadata": {},
   "source": [
    "3. Changer le 10 en -7."
   ]
  },
  {
   "cell_type": "code",
   "execution_count": null,
   "metadata": {},
   "outputs": [],
   "source": [
    "liste = [3, 5, 10]\n",
    "p = liste.index(10)\n",
    "liste[p] = -7\n",
    "print(liste)"
   ]
  },
  {
   "cell_type": "markdown",
   "metadata": {},
   "source": [
    "4. Avec une boucle `for`, écrire le double de chaque élément de la liste. Cela doit afficher `[6, 10, -14, 24, 34]`. La liste doit être modifiée."
   ]
  },
  {
   "cell_type": "code",
   "execution_count": null,
   "metadata": {},
   "outputs": [],
   "source": [
    "liste = [3, 5, -7, 12, 17]\n",
    "for i in range (len(liste)):\n",
    "    liste[i]*= 2\n",
    "print(liste)"
   ]
  },
  {
   "cell_type": "code",
   "execution_count": null,
   "metadata": {},
   "outputs": [],
   "source": [
    "liste = [3, 5, -7, 12, 17]\n",
    "liste = [liste[i]*2 for i in range(len(liste))]\n",
    "print(liste)"
   ]
  },
  {
   "cell_type": "markdown",
   "metadata": {},
   "source": [
    "5. A l'aide d'une boucle `for`, ajouter  la valeur `i` à l'élément d'indice `i` de la liste. Cela doit afficher `[6, 11, -12, 27, 38]`. La liste doit être modifiée."
   ]
  },
  {
   "cell_type": "code",
   "execution_count": null,
   "metadata": {},
   "outputs": [],
   "source": [
    "l = [6, 10, -14, 24, 34]\n",
    "for i in range(len(l)):\n",
    "   l[i] += i\n",
    "print(l)"
   ]
  },
  {
   "cell_type": "code",
   "execution_count": null,
   "metadata": {},
   "outputs": [],
   "source": [
    "l = [6, 10, -14, 24, 34]\n",
    "l = [l[i] + i for i in range(len(l))]\n",
    "print(l)"
   ]
  },
  {
   "cell_type": "markdown",
   "metadata": {},
   "source": [
    "6. Tirer 10 nombres à 2 chiffres au hasard et les mettre dans une nouvelle liste (vide au départ), puis afficher la somme des entiers de la liste et le plus grand de ces entiers."
   ]
  },
  {
   "cell_type": "code",
   "execution_count": null,
   "metadata": {},
   "outputs": [],
   "source": [
    "import random\n",
    "liste = []\n",
    "for i in range (10):\n",
    "    n = random.randint(10, 99)\n",
    "    liste.append(n)\n",
    "print(liste)\n",
    "print(sum(liste), max(liste))"
   ]
  },
  {
   "cell_type": "markdown",
   "metadata": {},
   "source": [
    "7. A partir de la liste choisie au hasard, créer une liste qui contient les éléments pairs et une deuxième liste qui contient les éléments impairs."
   ]
  },
  {
   "cell_type": "code",
   "execution_count": null,
   "metadata": {},
   "outputs": [],
   "source": [
    "liste_pair = []\n",
    "liste_impair = []\n",
    "for i in liste:\n",
    "    if i % 2 == 0:\n",
    "        liste_pair.append(i)\n",
    "    else:\n",
    "        liste_impair.append(i)\n",
    "print(liste_pair)\n",
    "print(liste_impair)"
   ]
  },
  {
   "cell_type": "markdown",
   "metadata": {},
   "source": [
    "8. Trier la liste choisie au hasard par ordre croissant en modifiant la liste."
   ]
  },
  {
   "cell_type": "code",
   "execution_count": null,
   "metadata": {},
   "outputs": [],
   "source": [
    "liste.sort()\n",
    "print(liste)"
   ]
  },
  {
   "cell_type": "markdown",
   "metadata": {},
   "source": [
    "9. Supprimer le plus petit et le plus grand élément de la liste triée."
   ]
  },
  {
   "cell_type": "code",
   "execution_count": null,
   "metadata": {},
   "outputs": [],
   "source": [
    "liste.sort()\n",
    "del liste[0]\n",
    "del liste[-1]\n",
    "print(liste)"
   ]
  },
  {
   "cell_type": "code",
   "execution_count": null,
   "metadata": {},
   "outputs": [],
   "source": [
    "liste.sort()\n",
    "n = liste[1:len(liste)-1]\n",
    "print(n)"
   ]
  },
  {
   "cell_type": "markdown",
   "metadata": {},
   "source": [
    "10. Créer la liste des entiers de 1 jusqu'à 52. Ces entiers représentent les cartes d'un paquet de 52 cartes."
   ]
  },
  {
   "cell_type": "code",
   "execution_count": null,
   "metadata": {},
   "outputs": [],
   "source": [
    "liste = []\n",
    "for i in range(1, 53):\n",
    "    liste.append(i)\n",
    "print(liste)"
   ]
  },
  {
   "cell_type": "markdown",
   "metadata": {},
   "source": [
    " 11. Couper le jeu de carte revient à choisir un indice `i` entre 0 et 51, et à passer toutes les cartes allant des indices 0 à i-1 à la suite des cartes qui vont des indices i à 51. Ecrire le code qui effectue une coupe choisie au hasard."
   ]
  },
  {
   "cell_type": "code",
   "execution_count": null,
   "metadata": {},
   "outputs": [],
   "source": [
    "liste3 = []\n",
    "liste4 = []\n",
    "import random\n",
    "indice = random.randint(0,51)\n",
    "\n",
    "for i in range(0, 52):\n",
    "    if i < indice:\n",
    "        liste3.append(i)\n",
    "    else:\n",
    "        liste4.append(i)\n",
    "liste3, liste4 = liste4, liste3\n",
    "print(liste3, liste4)"
   ]
  },
  {
   "cell_type": "code",
   "execution_count": null,
   "metadata": {},
   "outputs": [],
   "source": [
    "c = list((range(1, 53)))\n",
    "i = random.randint(0, 52)\n",
    "c[:i]\n",
    "c[i:]\n",
    "print(c[i:] + c[:i])"
   ]
  },
  {
   "cell_type": "markdown",
   "metadata": {},
   "source": [
    "---\n",
    "\n",
    "## 2. Problème de Syracuse\n",
    "\n",
    "Cette partie est à traiter dans un script que vous pouvez appeler, par exemple, `syracuse.py`.\n",
    "\n",
    "En partant d'un entier `n` de départ, on définit une suite d'entiers en obtenant chaque nouveau terme à partir du précédent soit en le divisant par 2 s'il est pair, soit en le multipliant par 3 et en ajoutant 1 s'il est impair. \n",
    "\n",
    "1. Sans écrire de programme, calculer les premières valeurs de la suite en chosissant `n = 3`.\n",
    "\n",
    "2. Ecrire la fonction qui, à partir d'un entier initial, renvoie la liste des valeurs successives jusqu'à ce que la valeur `1` soit atteinte (le dernier élément de la liste est donc toujours 1)."
   ]
  },
  {
   "cell_type": "code",
   "execution_count": null,
   "metadata": {},
   "outputs": [],
   "source": [
    "def syracuse(n):\n",
    "    liste5 = []\n",
    "    while n !=1:\n",
    "        liste5.append(n)\n",
    "        if n == 1:\n",
    "            break\n",
    "        elif n % 2 == 0:\n",
    "            n //= 2\n",
    "        else:\n",
    "            n = n*3 + 1\n",
    "    return liste5\n",
    "syracuse(3)"
   ]
  },
  {
   "cell_type": "code",
   "execution_count": null,
   "metadata": {},
   "outputs": [],
   "source": [
    "#meme fonction mais plus court\n",
    "def syracuse(n):\n",
    "    liste = []\n",
    "    while n !=1:\n",
    "        liste.append(n)\n",
    "        if n == 1:\n",
    "            break\n",
    "        n = n//2 if n/2 == 0 else n*3 + 1\n",
    "    return liste"
   ]
  },
  {
   "cell_type": "markdown",
   "metadata": {},
   "source": [
    "3. La conjecture de Collatz (ou problème de Syracuse) affirme que, quel que soit l’entier `n` que l’on choisisse au départ, on finit toujours par arriver à 1 (ce résultat est une *conjecture*, c'est-à-dire qu'il n'a pas été démontré, mais qu'il n'existe pas de contre-exemple connu). Écrire une fonction qui, en appelant la fonction précédente, va vérifier si la conjecture est vraie pour `n` de 1 à `n_max`, où `n_max` est un paramètre de la fonction. \n",
    "\n",
    "*Remarque*: si tout se passe bien, la fonction doit juste se terminer et renvoyer `True` par exemple. Sinon, c’est qu’on sera entré dans une boucle infinie."
   ]
  },
  {
   "cell_type": "code",
   "execution_count": null,
   "metadata": {
    "tags": []
   },
   "outputs": [],
   "source": [
    "def syracuse(n):\n",
    "    \"\"\" Retourne la liste des valeurs de la suite en partant de n jusqu'à 1 \"\"\"\n",
    "    liste5 = []\n",
    "    while n != 1:\n",
    "        if n % 2 == 0:\n",
    "            n /= 2\n",
    "            liste5.append(n)\n",
    "        elif n % 2 == 1:\n",
    "            n = n*3 + 1\n",
    "            liste5.append(n)\n",
    "    return liste5\n",
    "\n",
    "\n",
    "def testeConjecture(n_max):\n",
    "    \"\"\" Teste la conjecture de Collatz pour toutes les valeurs de 2 à n_max \"\"\"\n",
    "    for n in range (1, n_max + 1):\n",
    "        if 1.0 in syracuse(n):\n",
    "            print(True, n)\n",
    "\n",
    "print(testeConjecture(10000))"
   ]
  },
  {
   "cell_type": "markdown",
   "metadata": {},
   "source": [
    "4. On appelle *temps de vol* de l’entier `n` le nombre d’étapes pour aller de `n` jusqu’à 1. Le temps de vol de 1 est 0, le temps de vol de 3 est 7. Écrire une fonction qui, étant donné un paramètre `n`, renvoie son temps de vol."
   ]
  },
  {
   "cell_type": "code",
   "execution_count": null,
   "metadata": {},
   "outputs": [],
   "source": [
    "def tempsVol(n):\n",
    "    \"\"\" Retourne le temps de vol de n \"\"\"\n",
    "    cpt = 0\n",
    "    while True:\n",
    "        if n == 1:\n",
    "            break\n",
    "        cpt += 1\n",
    "        if n % 2 == 0:\n",
    "            n //= 2\n",
    "        else:\n",
    "            n = n*3 + 1\n",
    "    return cpt\n",
    "\n",
    "print(\"Le temps de vol de\", 3, \"est\", tempsVol(3))\n",
    "\n",
    "#len(syracuse(n)) même chose"
   ]
  },
  {
   "cell_type": "markdown",
   "metadata": {},
   "source": [
    "5. Ecrire une fonction qui, étant donné un paramètre `n_max` renvoie la liste des temps de vol de tous les entiers de 1 à `n_max`. *Indication*: utiliser une liste en compréhension."
   ]
  },
  {
   "cell_type": "code",
   "execution_count": null,
   "metadata": {},
   "outputs": [],
   "source": [
    "def tempsVolListe(n_max):\n",
    "    \"\"\" Retourne la liste de tous les temps de vol de 1 à n_max \"\"\"\n",
    "    liste = []\n",
    "    for i in range(1, n_max+1):\n",
    "        liste.append(tempsVol(i))\n",
    "    return liste\n",
    "print(tempsVolListe(100))"
   ]
  },
  {
   "cell_type": "code",
   "execution_count": null,
   "metadata": {},
   "outputs": [],
   "source": [
    "def tempsVolListe(n_max):\n",
    "    return[tempsVol(n) for n in range (1, n_max+1)]\n",
    "print(tempsVolListe(100))"
   ]
  },
  {
   "cell_type": "markdown",
   "metadata": {},
   "source": [
    "6. Déterminer quel entier entre 1 et 10000 a le plus grand temps de vol (réponse 6171 qui a le temps de vol 261)."
   ]
  },
  {
   "cell_type": "code",
   "execution_count": null,
   "metadata": {},
   "outputs": [],
   "source": [
    "print(max(tempsVolListe(10000)))\n",
    "print(tempsVolListe.index(261))"
   ]
  },
  {
   "cell_type": "markdown",
   "metadata": {},
   "source": [
    "7. L’altitude maximale de l'entier `n` est la plus grande valeur par laquelle passe `n` au cours de son vol. Déterminer quel entier entre 1 et 10000 a la plus grande altitude maximale (réponse 27114424, atteint par l'entier 9663). Ne pas hésiter à écrire de nouvelles fonctions pour cela."
   ]
  },
  {
   "cell_type": "code",
   "execution_count": null,
   "metadata": {},
   "outputs": [],
   "source": [
    "def altmax(n):\n",
    "    altmax = 0\n",
    "    while True:\n",
    "        if n > altmax:\n",
    "            altmax = n\n",
    "        if n == 1:\n",
    "            break\n",
    "        elif n % 2 == 0:\n",
    "            n //= 2\n",
    "        else:\n",
    "            n = n*3 + 1\n",
    "    return altmax"
   ]
  },
  {
   "cell_type": "markdown",
   "metadata": {},
   "source": [
    "---\n",
    "\n",
    "## 3. Carré magique\n",
    "\n",
    "*Définition* extraite de [l'article Wikipedia sur le carré magique](https://fr.wikipedia.org/wiki/Carr%C3%A9_magique_(math%C3%A9matiques)): en mathématiques, un carré magique d’ordre $n$ est composé de $n^2$ entiers strictement positifs, écrits sous la forme d’un tableau carré. Ces nombres sont disposés de sorte que leurs sommes sur chaque rangée, sur chaque colonne et sur chaque diagonale principale soient égales. On nomme alors *constante magique* la valeur de ces sommes. \n",
    "\n",
    "Un exemple de carré magique:\n",
    "\n",
    "$$\\begin{bmatrix} 4 & 14 & 15 & 1 \\\\ 9 & 7 & 6 & 12 \\\\ 5 & 11 & 10 & 8 \\\\ 16 & 2 & 3 & 13 \\end{bmatrix}$$\n",
    "\n",
    "1. Sans écrire de programme, vérifier qu'il s'agit bien d'un carré magique, et donner sa constante magique.\n",
    "\n",
    "Les questions qui suivent doivent être traitées dans un script, qui peut s'appeler `carre_magique.py`. Pensez à utiliser [PythonTutor](http://pythontutor.com/) et les outils de programmation pour résoudre les problèmes qui pourraient survenir.\n",
    "\n",
    "2. Créer une liste à deux dimensions affectée à  la variable `carre_mag` contenant ce carré magique."
   ]
  },
  {
   "cell_type": "code",
   "execution_count": null,
   "metadata": {},
   "outputs": [],
   "source": [
    "carre_mag = [[4, 14, 15, 1], [9, 7, 6, 12], [5, 11, 10, 8], [16, 2, 3, 13]]"
   ]
  },
  {
   "cell_type": "markdown",
   "metadata": {},
   "source": [
    "3. Créer une deuxième liste affectée à la variable `carre_pas_mag` qui ne soit pas magique à partir du carré magique en changeant le 3 en 7. "
   ]
  },
  {
   "cell_type": "code",
   "execution_count": null,
   "metadata": {},
   "outputs": [],
   "source": [
    "carre_pas_mag = [list(l) for l in carre_mag]\n",
    "carre_pas_mag[3][2] = 7\n",
    "print(carre_pas_mag)"
   ]
  },
  {
   "cell_type": "markdown",
   "metadata": {},
   "source": [
    "4. Créer une fonction qui affiche la liste comme un carré."
   ]
  },
  {
   "cell_type": "markdown",
   "metadata": {},
   "source": [
    "La constante magique est 34"
   ]
  },
  {
   "cell_type": "code",
   "execution_count": null,
   "metadata": {},
   "outputs": [],
   "source": [
    "def afficheCarre(carre):\n",
    "    for i in range (4):\n",
    "        print(carre[i])\n",
    "        i += 1\n",
    "\n",
    "afficheCarre(carre_mag)\n",
    "afficheCarre(carre_pas_mag)\n"
   ]
  },
  {
   "cell_type": "markdown",
   "metadata": {},
   "source": [
    "5. Ecrire une fonction qui teste si les lignes du carré ont toutes la même somme. Cette fonction renvoie cette somme si c'est le cas, et `-1` sinon."
   ]
  },
  {
   "cell_type": "code",
   "execution_count": null,
   "metadata": {},
   "outputs": [],
   "source": [
    "def testLignesEgales(carre):\n",
    "    n = sum(carre[0])\n",
    "    for i in range (1, 4):\n",
    "        if sum(carre[i]) != n:\n",
    "            return -1\n",
    "    return n\n",
    "\n",
    "print(testLignesEgales(carre_mag))\n",
    "print(testLignesEgales(carre_pas_mag))"
   ]
  },
  {
   "cell_type": "markdown",
   "metadata": {},
   "source": [
    "6. Même question mais en testant les colonnes."
   ]
  },
  {
   "cell_type": "code",
   "execution_count": null,
   "metadata": {},
   "outputs": [],
   "source": [
    "def testColonnesEgales(carre):\n",
    "    n = sum([l[0]for l in carre])   #somme pour colonne\n",
    "    for i in range (1, 4):\n",
    "        if sum([l[i] for l in carre]) != n:\n",
    "            return -1\n",
    "    return n\n",
    "\n",
    "print(testColonnesEgales(carre_mag))\n",
    "print(testColonnesEgales(carre_pas_mag))"
   ]
  },
  {
   "cell_type": "markdown",
   "metadata": {},
   "source": [
    "7. Même question mais en testant les 2 diagonales."
   ]
  },
  {
   "cell_type": "code",
   "execution_count": null,
   "metadata": {},
   "outputs": [],
   "source": [
    "def testDiagonalesEgales(carre):\n",
    "    n = len(carre)\n",
    "    d = [carre[i][i] for i in range(n)]\n",
    "    antidiag = [carre[i][n-1-i] for i in range(n)]\n",
    "    if sum(d) == sum(antidiag):\n",
    "        return sum(d)\n",
    "    else:\n",
    "        return -1\n",
    "\n",
    "#def testdiagonales(carre):\n",
    "    a = len(carre)\n",
    "    n = sum(carre[i][i] for i in range(4))\n",
    "    if sum(carre[i][a-1-i] for i in range(4)) != n:\n",
    "        return -1\n",
    "    return n\n",
    "\n",
    "print(testDiagonalesEgales(carre_mag))\n",
    "print(testDiagonalesEgales(carre_pas_mag))"
   ]
  },
  {
   "cell_type": "markdown",
   "metadata": {},
   "source": [
    "8. Créer une fonction qui teste si un carré est magique. Elle retourne `True` si c'est le cas et `False` sinon."
   ]
  },
  {
   "cell_type": "code",
   "execution_count": null,
   "metadata": {},
   "outputs": [],
   "source": [
    "def estCarreMagique(carre):\n",
    "    l = testLignesEgales(carre)\n",
    "    return l != -1 and l == testColonnesEgales and l == testDiagonalesEgales\n",
    "    \n",
    "print(estCarreMagique(carre_mag))\n",
    "print(estCarreMagique(carre_pas_mag))"
   ]
  },
  {
   "cell_type": "markdown",
   "metadata": {},
   "source": [
    "9. Un carré d'ordre $n$ est *normal* s'il contient tous les entiers de 1 à $n^2$. Ecrire une fonction qui teste si un carré est normal (pas nécessairement magique)."
   ]
  },
  {
   "cell_type": "code",
   "execution_count": null,
   "metadata": {},
   "outputs": [],
   "source": [
    "def estNormal(carre):\n",
    "    n = len(carre)\n",
    "    n_carre = [i for i in range(1, n**2 + 1)] #list(range(...))\n",
    "    for col in range(n):\n",
    "        for line in range(n):\n",
    "            if carre[line][col] in n_carre:\n",
    "                n_carre.remove(carre[line][col])\n",
    "    return not(n_carre)\n",
    "\n",
    "print(estNormal(carre_mag))\n",
    "print(estNormal(carre_pas_mag))"
   ]
  },
  {
   "cell_type": "code",
   "execution_count": null,
   "metadata": {},
   "outputs": [],
   "source": [
    "#sujet 9\n",
    "def longueur(a,b):\n",
    "    liste = []\n",
    "    if len(a) != len(b):\n",
    "        return \"les listes ne sont pas de même longuer on ne peut pas les sommer\"\n",
    "    else:\n",
    "        liste = [a[i] + b[i] for i in range(len(a))]\n",
    "        return liste\n",
    "\n",
    "print(longueur([1,7],[8,9]))\n",
    "\n",
    "import random\n",
    "def plan_jour(n):\n",
    "    j = []\n",
    "    for i in range(random.randint(0,n)):\n",
    "        j.append(random.randint(1,n))\n",
    "    print(j)\n",
    "\n",
    "def plan_semaine(n):\n",
    "    s = []\n",
    "    for i in range(7):\n",
    "        s.append(plan_jour(n))\n",
    "\n",
    "def affiche(n):\n",
    "    return plan_semaine(n)\n",
    "\n",
    "print(affiche(5))"
   ]
  },
  {
   "cell_type": "code",
   "execution_count": null,
   "metadata": {},
   "outputs": [],
   "source": [
    "#sujet 21\n",
    "def somme(n):\n",
    "    l = []\n",
    "    a = [2**i for i in range(n)]\n",
    "    for j in range(1, n+1):\n",
    "        l.append(sum(a[:j]))\n",
    "    return l\n",
    "print(somme(4))\n",
    "\n",
    "def matrice_carre(tai6lle):\n",
    "    l = []\n",
    "    matrice = [[0]*taille for _ in range(taille)]\n",
    "    for i in range(taille):\n",
    "        for j in range(taille):\n",
    "            chiffre = int(input(\"valeur ?\"))\n",
    "            if chiffre == int(chiffre):\n",
    "                matrice[i][j] = chiffre\n",
    "    return matrice\n",
    "matrice_carre(3)"
   ]
  },
  {
   "cell_type": "code",
   "execution_count": null,
   "metadata": {},
   "outputs": [],
   "source": [
    "#sujet 26\n",
    "def pair():\n",
    "    l = []\n",
    "    for i in range(10):\n",
    "        a = int(input(\"Donner un entier pair\"))\n",
    "        if a == int(a) and a % 2 == 0:\n",
    "            l.append(a)\n",
    "        else:\n",
    "            break\n",
    "    return l\n",
    "print(pair())\n",
    "\n",
    "#morpion\n",
    "def verifie_ligne(grille,n):\n",
    "    for line in grille:\n",
    "        print(line)\n",
    "    print(\"line:\", n)\n",
    "    if grille[n-1] == [0,0,0] :\n",
    "        return 0\n",
    "    elif grille[n-1] == [1,1,1]:\n",
    "        return 1\n",
    "    else: \n",
    "        return -1\n",
    "print(verifie_ligne([[1,0,1],[0,0,0],[0,1,1]], 3))"
   ]
  },
  {
   "cell_type": "code",
   "execution_count": null,
   "metadata": {},
   "outputs": [],
   "source": [
    "#sujet 20\n",
    "def divise(l1,l2):\n",
    "    l = []\n",
    "    l = tuple([l1[i]//l2[i] for i in range(len(l1))])\n",
    "    return l\n",
    "print(divise([10,6,8], [5,2,4]))\n",
    "    \n",
    "import time\n",
    "def time_func(func):\n",
    "    start = time.time()\n",
    "    func\n",
    "    end = time.time()\n",
    "    temps = end - start\n",
    "    print(\"Le temps d'exécution du programme est de\", temps, \"secondes\")\n",
    "time_func(time.sleep(3))\n",
    "\n",
    "#start = time.time()\n",
    "#time.sleep(3)\n",
    "#end = time.time()\n",
    "#temps = end - start\n",
    "#print(\"Le temps d'exécution du programme est de\", temps, \"secondes\")\n"
   ]
  },
  {
   "cell_type": "code",
   "execution_count": null,
   "metadata": {},
   "outputs": [],
   "source": [
    "#sujet 6\n",
    "def sup(l1,n):\n",
    "    compteur = 0\n",
    "    for i in range(len(l1)):\n",
    "        if l1[i] > n:\n",
    "            compteur += 1\n",
    "    return compteur\n",
    "print(sup([4,7,10,45,68], 40))\n",
    "\n",
    "def occurence(c):\n",
    "    l = []\n",
    "    for i in c:\n",
    "        l.append([c.count(i), i])\n",
    "    for i in l:\n",
    "        if l.count(i) >= 2:\n",
    "            l.remove(i)\n",
    "    return l\n",
    "print(occurence(\"informatique\"))"
   ]
  },
  {
   "cell_type": "code",
   "execution_count": null,
   "metadata": {},
   "outputs": [],
   "source": [
    "#sujet 3\n",
    "def fact(l1):\n",
    "    l2 = []\n",
    "    f = 1\n",
    "    for i in l1:\n",
    "        f = 1\n",
    "        for j in range(1,i+1):\n",
    "           f *=j\n",
    "        l2.append(f)\n",
    "    return l2\n",
    "print(fact([1,2,5,3]))"
   ]
  },
  {
   "cell_type": "code",
   "execution_count": null,
   "metadata": {},
   "outputs": [],
   "source": [
    "#sujet 19\n",
    "def plusOne(ma_liste):\n",
    "    a = len(ma_liste)\n",
    "    l = [ma_liste[i]+1 for i in range(a)]\n",
    "    return l\n",
    "plusOne([1,9,8,224])\n",
    "\n",
    "def verifie_colonne(grille, n):\n",
    "    l = [grille[i][n-1] for i in range(3)]\n",
    "    if l == [0,0,0]:\n",
    "        return 0\n",
    "    elif l == [1, 1, 1]:\n",
    "        return 1\n",
    "    else:\n",
    "        return -1\n",
    "verifie_colonne([[0,1,0], [0,0,0], [1,0,0]], 2)"
   ]
  },
  {
   "cell_type": "code",
   "execution_count": null,
   "metadata": {},
   "outputs": [],
   "source": [
    "#sujet 14\n",
    "def diviseur(n):\n",
    "    l = []\n",
    "    for i in range(1,n+1):\n",
    "        if n % i == 0:\n",
    "            l.append(i)\n",
    "    return l \n",
    "print(diviseur(10))   "
   ]
  },
  {
   "cell_type": "code",
   "execution_count": null,
   "metadata": {},
   "outputs": [],
   "source": [
    "#sujet 2\n",
    "def multi(n):\n",
    "    print(\"x\", end=\" \")\n",
    "    for i in range(n+1):\n",
    "        print(i, end=\" \")\n",
    "    print()\n",
    "    for j in range(0,n+1):\n",
    "        print(j, end=\" \")\n",
    "        for h in range(n+1):\n",
    "            print(h*j, end =\" \")\n",
    "        print()\n",
    "multi(5)"
   ]
  },
  {
   "cell_type": "code",
   "execution_count": null,
   "metadata": {},
   "outputs": [],
   "source": [
    "#sujet 8\n",
    "def inter(l1, l2):\n",
    "    l3= []\n",
    "    for i in range(len(l1)):\n",
    "        if l1[i] in l2:\n",
    "            l3.append(l1[i])\n",
    "    return l3\n",
    "print(inter([2, 7, 14, 5], [4, 8, 7]))\n",
    "\n",
    "def somme_colonne(l):\n",
    "    l1 = []\n",
    "    l2 = []\n",
    "    a = len(l)\n",
    "    for i in range (a):\n",
    "        for j in range(a):\n",
    "            l2.append(l[i][j])\n",
    "    for h in range(a):\n",
    "        b = sum(l2[h::a])\n",
    "        l1.append(b)\n",
    "        b = 0\n",
    "    return l1\n",
    "somme_colonne(([1,5,4], [4,5,3], [8,8,5]))"
   ]
  },
  {
   "cell_type": "code",
   "execution_count": null,
   "metadata": {},
   "outputs": [],
   "source": [
    "def inverse(n):\n",
    "    l = []\n",
    "    for i in range(n,0,-1):\n",
    "        l.append(i)\n",
    "    return l\n",
    "print(inverse(10))"
   ]
  },
  {
   "cell_type": "code",
   "execution_count": null,
   "metadata": {},
   "outputs": [],
   "source": [
    "def total_colonnes(mat):\n",
    "    l = []\n",
    "    l1 = []\n",
    "    a = len(mat)\n",
    "    b = len(mat[0])\n",
    "    for i in range(a):\n",
    "        for j in range(b):\n",
    "            l.append(mat[i][j])        #création liste avce toutes les valeurs\n",
    "    for h in range(b):                 \n",
    "        c = sum(l[h::b])\n",
    "        l1.append(c)                   #l1 = sous liste avec les sommes\n",
    "        c = 0\n",
    "    for i in range(a):\n",
    "        for j in range(b):\n",
    "            print(mat[i][j], end = \" \")\n",
    "        print()\n",
    "    for i in range(len(l1)):\n",
    "        print(l1[i], end=\" \")\n",
    "print(total_colonnes(([1,3,2],[6,0,4], [5,2,8])))"
   ]
  },
  {
   "cell_type": "code",
   "execution_count": null,
   "metadata": {},
   "outputs": [],
   "source": [
    "def petit(l):\n",
    "    l.sort()\n",
    "    return l[1]\n",
    "petit([4,8,78,5,9])"
   ]
  },
  {
   "cell_type": "code",
   "execution_count": null,
   "metadata": {},
   "outputs": [],
   "source": [
    "def somme_matrice(mat1, mat2):\n",
    "    if len(mat1) != len(mat2) or len(mat1[0]) != len(mat2[0]):\n",
    "        return \n",
    "    l = []\n",
    "    m = len(mat1)\n",
    "    n = len(mat1[0])\n",
    "    for i in range(m):\n",
    "        for j in range(n):\n",
    "            a = sum((mat1[i][j], mat2[i][j]))\n",
    "            l.append(a)\n",
    "            a = 0\n",
    "    for i in range(n,len(l)+1,n):\n",
    "        b = l[i-n:i]\n",
    "        for c in b:\n",
    "            print(c, end=\" \")\n",
    "        print()\n",
    "\n",
    "somme_matrice(([1,3], [1,0], [1, 2]), ([0,0], [7,5], [2,1]))\n"
   ]
  },
  {
   "cell_type": "code",
   "execution_count": null,
   "metadata": {},
   "outputs": [],
   "source": [
    "\n",
    "import random\n",
    "def sudoku():\n",
    "    L = []\n",
    "    while len(L)<4:\n",
    "        a = random.randint(1,4)\n",
    "        if a in L:\n",
    "            continue\n",
    "        else: \n",
    "            L.append(a)\n",
    "    print()\n",
    "    L1 = []\n",
    "    for j in range(3):\n",
    "        for i in range(4):\n",
    "            while len(L1)<4:\n",
    "                a = random.randint(1,4)\n",
    "                if a in L1:\n",
    "                    continue\n",
    "                else: \n",
    "                    print(a, end=\" \")\n",
    "                    L1.append(a)\n",
    "                    if L1[i] == L[i]:\n",
    "                        L1.remove(a)\n",
    "sudoku()"
   ]
  },
  {
   "cell_type": "code",
   "execution_count": null,
   "metadata": {},
   "outputs": [],
   "source": [
    "import random\n",
    "def sudoku(): \n",
    "    l1 = [] \n",
    "    L = []\n",
    "    while len(L)<4:\n",
    "        a = random.randint(1,4)\n",
    "        if a in L:\n",
    "            continue\n",
    "        else: \n",
    "            L.append(a)\n",
    "    l1.append(L)\n",
    "    print(l1)\n",
    "    L = []\n",
    "    for i in range(3):\n",
    "        while len(L)<4:\n",
    "            a = random.randint(1,4)\n",
    "            if a in L:\n",
    "                continue\n",
    "            else: \n",
    "                L.append(a)\n",
    "        print(L)\n",
    "        for j in range(3):\n",
    "            for h in range(4):\n",
    "                if L[h] == l1[j][h]:\n",
    "                    L.remove(a)\n",
    "        l1.append(L)\n",
    "        L = []\n",
    "    print(l1)\n",
    "sudoku()"
   ]
  },
  {
   "cell_type": "code",
   "execution_count": null,
   "metadata": {},
   "outputs": [],
   "source": [
    "l = [[0,0,0],[0,0,0],[0,0,0]]\n",
    "def remplace(l):\n",
    "    for i in range(5):\n",
    "        for j in range(3):\n",
    "            for h in range(3):"
   ]
  },
  {
   "cell_type": "code",
   "execution_count": null,
   "metadata": {},
   "outputs": [],
   "source": [
    "grille = []\n",
    "for i in range(7):\n",
    "    for j in range(6):\n",
    "        \n",
    "\n"
   ]
  },
  {
   "cell_type": "code",
   "execution_count": null,
   "metadata": {},
   "outputs": [],
   "source": [
    "[0]*7"
   ]
  },
  {
   "cell_type": "code",
   "execution_count": 7,
   "metadata": {},
   "outputs": [
    {
     "ename": "TypeError",
     "evalue": "'list' object cannot be interpreted as an integer",
     "output_type": "error",
     "traceback": [
      "\u001b[1;31m---------------------------------------------------------------------------\u001b[0m",
      "\u001b[1;31mTypeError\u001b[0m                                 Traceback (most recent call last)",
      "\u001b[1;32m~\\AppData\\Local\\Temp/ipykernel_9988/2433442810.py\u001b[0m in \u001b[0;36m<module>\u001b[1;34m\u001b[0m\n\u001b[0;32m      1\u001b[0m \u001b[0ml\u001b[0m \u001b[1;33m=\u001b[0m \u001b[1;33m[\u001b[0m\u001b[1;33m[\u001b[0m\u001b[1;36m0\u001b[0m\u001b[1;33m,\u001b[0m\u001b[1;36m8\u001b[0m\u001b[1;33m,\u001b[0m\u001b[1;36m7\u001b[0m\u001b[1;33m]\u001b[0m\u001b[1;33m,\u001b[0m \u001b[1;33m[\u001b[0m\u001b[1;36m9\u001b[0m\u001b[1;33m,\u001b[0m\u001b[1;36m0\u001b[0m\u001b[1;33m]\u001b[0m\u001b[1;33m]\u001b[0m\u001b[1;33m\u001b[0m\u001b[1;33m\u001b[0m\u001b[0m\n\u001b[0;32m      2\u001b[0m \u001b[1;32mfor\u001b[0m \u001b[0mi\u001b[0m \u001b[1;32min\u001b[0m \u001b[0ml\u001b[0m\u001b[1;33m:\u001b[0m\u001b[1;33m\u001b[0m\u001b[1;33m\u001b[0m\u001b[0m\n\u001b[1;32m----> 3\u001b[1;33m     \u001b[1;32mfor\u001b[0m \u001b[0mj\u001b[0m \u001b[1;32min\u001b[0m \u001b[0mrange\u001b[0m\u001b[1;33m(\u001b[0m\u001b[0mi\u001b[0m\u001b[1;33m)\u001b[0m\u001b[1;33m:\u001b[0m\u001b[1;33m\u001b[0m\u001b[1;33m\u001b[0m\u001b[0m\n\u001b[0m\u001b[0;32m      4\u001b[0m         \u001b[0mprint\u001b[0m\u001b[1;33m(\u001b[0m\u001b[0mj\u001b[0m\u001b[1;33m)\u001b[0m\u001b[1;33m\u001b[0m\u001b[1;33m\u001b[0m\u001b[0m\n",
      "\u001b[1;31mTypeError\u001b[0m: 'list' object cannot be interpreted as an integer"
     ]
    }
   ],
   "source": [
    "l = [[0,8,7], [9,0]]\n",
    "for i in l:\n",
    "    for j in range(i):\n",
    "        print(j)"
   ]
  }
 ],
 "metadata": {
  "interpreter": {
   "hash": "ae71230639ab4a4897a0a7d840b3da0aa7ae116a7420052ce92ef4319b712ad0"
  },
  "kernelspec": {
   "display_name": "Python 3.9.7 64-bit ('l1-python': conda)",
   "name": "python3"
  },
  "language_info": {
   "codemirror_mode": {
    "name": "ipython",
    "version": 3
   },
   "file_extension": ".py",
   "mimetype": "text/x-python",
   "name": "python",
   "nbconvert_exporter": "python",
   "pygments_lexer": "ipython3",
   "version": "3.9.7"
  }
 },
 "nbformat": 4,
 "nbformat_minor": 1
}
